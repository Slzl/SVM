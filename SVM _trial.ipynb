{
  "nbformat": 4,
  "nbformat_minor": 0,
  "metadata": {
    "colab": {
      "provenance": [],
      "authorship_tag": "ABX9TyOQ44sWK5K46ukjGmQtK2q1",
      "include_colab_link": true
    },
    "kernelspec": {
      "name": "python3",
      "display_name": "Python 3"
    },
    "language_info": {
      "name": "python"
    }
  },
  "cells": [
    {
      "cell_type": "markdown",
      "metadata": {
        "id": "view-in-github",
        "colab_type": "text"
      },
      "source": [
        "<a href=\"https://colab.research.google.com/github/Slzl/SVM/blob/main/SVM%20_trial.ipynb\" target=\"_parent\"><img src=\"https://colab.research.google.com/assets/colab-badge.svg\" alt=\"Open In Colab\"/></a>"
      ]
    },
    {
      "cell_type": "code",
      "execution_count": null,
      "metadata": {
        "id": "W7KAg-J3GHTV"
      },
      "outputs": [],
      "source": [
        "import numpy as np \n",
        "import pandas as pd \n",
        "import matplotlib.pyplot as plt \n",
        "import seaborn as sns \n",
        "%matplotlib inline\n",
        "import os\n",
        "for dirname, _, filenames in os.walk('/content/Cryptocurrency.csv'):\n",
        "    for filename in filenames:\n",
        "        print(os.path.join(dirname, filename))"
      ]
    },
    {
      "cell_type": "code",
      "source": [
        "import warnings\n",
        "warnings.filterwarnings('ignore')"
      ],
      "metadata": {
        "id": "Zi-GaPDLGH39"
      },
      "execution_count": null,
      "outputs": []
    },
    {
      "cell_type": "code",
      "source": [
        "data = '/content/Cryptocurrency.csv'\n",
        "df = pd.read_csv(data)"
      ],
      "metadata": {
        "id": "McGAQAK9GKOZ"
      },
      "execution_count": null,
      "outputs": []
    },
    {
      "cell_type": "code",
      "source": [
        "df.shape"
      ],
      "metadata": {
        "colab": {
          "base_uri": "https://localhost:8080/"
        },
        "id": "5_NskzGcGQXg",
        "outputId": "6068863e-99d1-4405-d04c-3d275d8c6c35"
      },
      "execution_count": null,
      "outputs": [
        {
          "output_type": "execute_result",
          "data": {
            "text/plain": [
              "(8559, 12)"
            ]
          },
          "metadata": {},
          "execution_count": 4
        }
      ]
    },
    {
      "cell_type": "code",
      "source": [
        "df_pd = pd.DataFrame(df)\n",
        "df_pd.rename(columns = {'Price Usd':'Price_Usd'}, inplace = True)"
      ],
      "metadata": {
        "id": "4LhdViBYGSq-"
      },
      "execution_count": null,
      "outputs": []
    },
    {
      "cell_type": "code",
      "source": [
        "df.head()"
      ],
      "metadata": {
        "colab": {
          "base_uri": "https://localhost:8080/",
          "height": 250
        },
        "id": "Tx59psgBGW1w",
        "outputId": "44cbf4f2-00ab-412a-99f1-77dfd38901bc"
      },
      "execution_count": null,
      "outputs": [
        {
          "output_type": "execute_result",
          "data": {
            "text/plain": [
              "       Name Symbol     Price_Usd     Volume24h     Volume30d     MarketCap  \\\n",
              "0   Bitcoin    BTC  24620.849470  3.745915e+10  4.820000e+11  4.750000e+11   \n",
              "1  Ethereum    ETH   1688.699934  1.243162e+10  1.500000e+11  2.070000e+11   \n",
              "2    Tether   USDT      1.000223  5.244734e+10  6.490000e+11  6.980130e+10   \n",
              "3       BNB    BNB    321.785343  9.556956e+08  1.056193e+10  5.080931e+10   \n",
              "4  USD Coin   USDC      1.000039  5.046872e+09  7.770599e+10  4.151303e+10   \n",
              "\n",
              "   Dominance  YtdPriceChangePercentage  cmcRank  marketPairCount  \\\n",
              "0    42.6334                   48.0946        1             9982   \n",
              "1    18.5435                   40.6119        2             9982   \n",
              "2     6.2660                    0.0531        3             9982   \n",
              "3     4.5601                   31.8052        4             9982   \n",
              "4     3.7254                    0.0046        5             9982   \n",
              "\n",
              "   circulatingSupply   totalSupply  \n",
              "0       1.929256e+07  1.929256e+07  \n",
              "1       1.223739e+08  1.223739e+08  \n",
              "2       6.978573e+10  7.314177e+10  \n",
              "3       1.578982e+08  1.599800e+08  \n",
              "4       4.151139e+10  4.151139e+10  "
            ],
            "text/html": [
              "\n",
              "  <div id=\"df-26a26767-0de6-4ce4-9e5b-011223990da7\">\n",
              "    <div class=\"colab-df-container\">\n",
              "      <div>\n",
              "<style scoped>\n",
              "    .dataframe tbody tr th:only-of-type {\n",
              "        vertical-align: middle;\n",
              "    }\n",
              "\n",
              "    .dataframe tbody tr th {\n",
              "        vertical-align: top;\n",
              "    }\n",
              "\n",
              "    .dataframe thead th {\n",
              "        text-align: right;\n",
              "    }\n",
              "</style>\n",
              "<table border=\"1\" class=\"dataframe\">\n",
              "  <thead>\n",
              "    <tr style=\"text-align: right;\">\n",
              "      <th></th>\n",
              "      <th>Name</th>\n",
              "      <th>Symbol</th>\n",
              "      <th>Price_Usd</th>\n",
              "      <th>Volume24h</th>\n",
              "      <th>Volume30d</th>\n",
              "      <th>MarketCap</th>\n",
              "      <th>Dominance</th>\n",
              "      <th>YtdPriceChangePercentage</th>\n",
              "      <th>cmcRank</th>\n",
              "      <th>marketPairCount</th>\n",
              "      <th>circulatingSupply</th>\n",
              "      <th>totalSupply</th>\n",
              "    </tr>\n",
              "  </thead>\n",
              "  <tbody>\n",
              "    <tr>\n",
              "      <th>0</th>\n",
              "      <td>Bitcoin</td>\n",
              "      <td>BTC</td>\n",
              "      <td>24620.849470</td>\n",
              "      <td>3.745915e+10</td>\n",
              "      <td>4.820000e+11</td>\n",
              "      <td>4.750000e+11</td>\n",
              "      <td>42.6334</td>\n",
              "      <td>48.0946</td>\n",
              "      <td>1</td>\n",
              "      <td>9982</td>\n",
              "      <td>1.929256e+07</td>\n",
              "      <td>1.929256e+07</td>\n",
              "    </tr>\n",
              "    <tr>\n",
              "      <th>1</th>\n",
              "      <td>Ethereum</td>\n",
              "      <td>ETH</td>\n",
              "      <td>1688.699934</td>\n",
              "      <td>1.243162e+10</td>\n",
              "      <td>1.500000e+11</td>\n",
              "      <td>2.070000e+11</td>\n",
              "      <td>18.5435</td>\n",
              "      <td>40.6119</td>\n",
              "      <td>2</td>\n",
              "      <td>9982</td>\n",
              "      <td>1.223739e+08</td>\n",
              "      <td>1.223739e+08</td>\n",
              "    </tr>\n",
              "    <tr>\n",
              "      <th>2</th>\n",
              "      <td>Tether</td>\n",
              "      <td>USDT</td>\n",
              "      <td>1.000223</td>\n",
              "      <td>5.244734e+10</td>\n",
              "      <td>6.490000e+11</td>\n",
              "      <td>6.980130e+10</td>\n",
              "      <td>6.2660</td>\n",
              "      <td>0.0531</td>\n",
              "      <td>3</td>\n",
              "      <td>9982</td>\n",
              "      <td>6.978573e+10</td>\n",
              "      <td>7.314177e+10</td>\n",
              "    </tr>\n",
              "    <tr>\n",
              "      <th>3</th>\n",
              "      <td>BNB</td>\n",
              "      <td>BNB</td>\n",
              "      <td>321.785343</td>\n",
              "      <td>9.556956e+08</td>\n",
              "      <td>1.056193e+10</td>\n",
              "      <td>5.080931e+10</td>\n",
              "      <td>4.5601</td>\n",
              "      <td>31.8052</td>\n",
              "      <td>4</td>\n",
              "      <td>9982</td>\n",
              "      <td>1.578982e+08</td>\n",
              "      <td>1.599800e+08</td>\n",
              "    </tr>\n",
              "    <tr>\n",
              "      <th>4</th>\n",
              "      <td>USD Coin</td>\n",
              "      <td>USDC</td>\n",
              "      <td>1.000039</td>\n",
              "      <td>5.046872e+09</td>\n",
              "      <td>7.770599e+10</td>\n",
              "      <td>4.151303e+10</td>\n",
              "      <td>3.7254</td>\n",
              "      <td>0.0046</td>\n",
              "      <td>5</td>\n",
              "      <td>9982</td>\n",
              "      <td>4.151139e+10</td>\n",
              "      <td>4.151139e+10</td>\n",
              "    </tr>\n",
              "  </tbody>\n",
              "</table>\n",
              "</div>\n",
              "      <button class=\"colab-df-convert\" onclick=\"convertToInteractive('df-26a26767-0de6-4ce4-9e5b-011223990da7')\"\n",
              "              title=\"Convert this dataframe to an interactive table.\"\n",
              "              style=\"display:none;\">\n",
              "        \n",
              "  <svg xmlns=\"http://www.w3.org/2000/svg\" height=\"24px\"viewBox=\"0 0 24 24\"\n",
              "       width=\"24px\">\n",
              "    <path d=\"M0 0h24v24H0V0z\" fill=\"none\"/>\n",
              "    <path d=\"M18.56 5.44l.94 2.06.94-2.06 2.06-.94-2.06-.94-.94-2.06-.94 2.06-2.06.94zm-11 1L8.5 8.5l.94-2.06 2.06-.94-2.06-.94L8.5 2.5l-.94 2.06-2.06.94zm10 10l.94 2.06.94-2.06 2.06-.94-2.06-.94-.94-2.06-.94 2.06-2.06.94z\"/><path d=\"M17.41 7.96l-1.37-1.37c-.4-.4-.92-.59-1.43-.59-.52 0-1.04.2-1.43.59L10.3 9.45l-7.72 7.72c-.78.78-.78 2.05 0 2.83L4 21.41c.39.39.9.59 1.41.59.51 0 1.02-.2 1.41-.59l7.78-7.78 2.81-2.81c.8-.78.8-2.07 0-2.86zM5.41 20L4 18.59l7.72-7.72 1.47 1.35L5.41 20z\"/>\n",
              "  </svg>\n",
              "      </button>\n",
              "      \n",
              "  <style>\n",
              "    .colab-df-container {\n",
              "      display:flex;\n",
              "      flex-wrap:wrap;\n",
              "      gap: 12px;\n",
              "    }\n",
              "\n",
              "    .colab-df-convert {\n",
              "      background-color: #E8F0FE;\n",
              "      border: none;\n",
              "      border-radius: 50%;\n",
              "      cursor: pointer;\n",
              "      display: none;\n",
              "      fill: #1967D2;\n",
              "      height: 32px;\n",
              "      padding: 0 0 0 0;\n",
              "      width: 32px;\n",
              "    }\n",
              "\n",
              "    .colab-df-convert:hover {\n",
              "      background-color: #E2EBFA;\n",
              "      box-shadow: 0px 1px 2px rgba(60, 64, 67, 0.3), 0px 1px 3px 1px rgba(60, 64, 67, 0.15);\n",
              "      fill: #174EA6;\n",
              "    }\n",
              "\n",
              "    [theme=dark] .colab-df-convert {\n",
              "      background-color: #3B4455;\n",
              "      fill: #D2E3FC;\n",
              "    }\n",
              "\n",
              "    [theme=dark] .colab-df-convert:hover {\n",
              "      background-color: #434B5C;\n",
              "      box-shadow: 0px 1px 3px 1px rgba(0, 0, 0, 0.15);\n",
              "      filter: drop-shadow(0px 1px 2px rgba(0, 0, 0, 0.3));\n",
              "      fill: #FFFFFF;\n",
              "    }\n",
              "  </style>\n",
              "\n",
              "      <script>\n",
              "        const buttonEl =\n",
              "          document.querySelector('#df-26a26767-0de6-4ce4-9e5b-011223990da7 button.colab-df-convert');\n",
              "        buttonEl.style.display =\n",
              "          google.colab.kernel.accessAllowed ? 'block' : 'none';\n",
              "\n",
              "        async function convertToInteractive(key) {\n",
              "          const element = document.querySelector('#df-26a26767-0de6-4ce4-9e5b-011223990da7');\n",
              "          const dataTable =\n",
              "            await google.colab.kernel.invokeFunction('convertToInteractive',\n",
              "                                                     [key], {});\n",
              "          if (!dataTable) return;\n",
              "\n",
              "          const docLinkHtml = 'Like what you see? Visit the ' +\n",
              "            '<a target=\"_blank\" href=https://colab.research.google.com/notebooks/data_table.ipynb>data table notebook</a>'\n",
              "            + ' to learn more about interactive tables.';\n",
              "          element.innerHTML = '';\n",
              "          dataTable['output_type'] = 'display_data';\n",
              "          await google.colab.output.renderOutput(dataTable, element);\n",
              "          const docLink = document.createElement('div');\n",
              "          docLink.innerHTML = docLinkHtml;\n",
              "          element.appendChild(docLink);\n",
              "        }\n",
              "      </script>\n",
              "    </div>\n",
              "  </div>\n",
              "  "
            ]
          },
          "metadata": {},
          "execution_count": 6
        }
      ]
    },
    {
      "cell_type": "code",
      "source": [
        "col_names = df.columns\n",
        "col_names"
      ],
      "metadata": {
        "colab": {
          "base_uri": "https://localhost:8080/"
        },
        "id": "eO4hCIZNGY5f",
        "outputId": "79dd6f05-721a-4518-e11d-f5c6ee74ef60"
      },
      "execution_count": null,
      "outputs": [
        {
          "output_type": "execute_result",
          "data": {
            "text/plain": [
              "Index(['Name', 'Symbol', 'Price_Usd', 'Volume24h', 'Volume30d', 'MarketCap',\n",
              "       'Dominance', 'YtdPriceChangePercentage', 'cmcRank', 'marketPairCount',\n",
              "       'circulatingSupply', 'totalSupply'],\n",
              "      dtype='object')"
            ]
          },
          "metadata": {},
          "execution_count": 7
        }
      ]
    },
    {
      "cell_type": "code",
      "source": [
        "df['marketPairCount'].value_counts()"
      ],
      "metadata": {
        "colab": {
          "base_uri": "https://localhost:8080/"
        },
        "id": "AKtzBCh-GayJ",
        "outputId": "3e8612f5-7a64-4f28-b100-8a7fca05b286"
      },
      "execution_count": null,
      "outputs": [
        {
          "output_type": "execute_result",
          "data": {
            "text/plain": [
              "1       4280\n",
              "9982    4279\n",
              "Name: marketPairCount, dtype: int64"
            ]
          },
          "metadata": {},
          "execution_count": 8
        }
      ]
    },
    {
      "cell_type": "code",
      "source": [
        "df['marketPairCount'].value_counts()/np.float(len(df))"
      ],
      "metadata": {
        "colab": {
          "base_uri": "https://localhost:8080/"
        },
        "id": "cRg_zn0VGcy8",
        "outputId": "4b1ee103-693a-4340-eb12-a0b69a4d3e13"
      },
      "execution_count": null,
      "outputs": [
        {
          "output_type": "execute_result",
          "data": {
            "text/plain": [
              "1       0.500058\n",
              "9982    0.499942\n",
              "Name: marketPairCount, dtype: float64"
            ]
          },
          "metadata": {},
          "execution_count": 9
        }
      ]
    },
    {
      "cell_type": "code",
      "source": [
        "df.info()"
      ],
      "metadata": {
        "colab": {
          "base_uri": "https://localhost:8080/"
        },
        "id": "E-TOAjKMGnfS",
        "outputId": "9ce13a26-2747-49d4-fdd1-db5b6184ff29"
      },
      "execution_count": null,
      "outputs": [
        {
          "output_type": "stream",
          "name": "stdout",
          "text": [
            "<class 'pandas.core.frame.DataFrame'>\n",
            "RangeIndex: 8559 entries, 0 to 8558\n",
            "Data columns (total 12 columns):\n",
            " #   Column                    Non-Null Count  Dtype  \n",
            "---  ------                    --------------  -----  \n",
            " 0   Name                      8559 non-null   object \n",
            " 1   Symbol                    8559 non-null   object \n",
            " 2   Price_Usd                 8559 non-null   float64\n",
            " 3   Volume24h                 8559 non-null   float64\n",
            " 4   Volume30d                 8559 non-null   float64\n",
            " 5   MarketCap                 8559 non-null   float64\n",
            " 6   Dominance                 8559 non-null   float64\n",
            " 7   YtdPriceChangePercentage  8559 non-null   float64\n",
            " 8   cmcRank                   8559 non-null   int64  \n",
            " 9   marketPairCount           8559 non-null   int64  \n",
            " 10  circulatingSupply         8559 non-null   float64\n",
            " 11  totalSupply               8559 non-null   float64\n",
            "dtypes: float64(8), int64(2), object(2)\n",
            "memory usage: 802.5+ KB\n"
          ]
        }
      ]
    },
    {
      "cell_type": "code",
      "source": [
        "df.isnull().sum()"
      ],
      "metadata": {
        "colab": {
          "base_uri": "https://localhost:8080/"
        },
        "id": "BimfGC6bGpjn",
        "outputId": "b24f3365-7ba7-4a6f-bcd5-b1993d3a9595"
      },
      "execution_count": null,
      "outputs": [
        {
          "output_type": "execute_result",
          "data": {
            "text/plain": [
              "Name                        0\n",
              "Symbol                      0\n",
              "Price_Usd                   0\n",
              "Volume24h                   0\n",
              "Volume30d                   0\n",
              "MarketCap                   0\n",
              "Dominance                   0\n",
              "YtdPriceChangePercentage    0\n",
              "cmcRank                     0\n",
              "marketPairCount             0\n",
              "circulatingSupply           0\n",
              "totalSupply                 0\n",
              "dtype: int64"
            ]
          },
          "metadata": {},
          "execution_count": 11
        }
      ]
    },
    {
      "cell_type": "code",
      "source": [
        "round(df.describe(),2)"
      ],
      "metadata": {
        "colab": {
          "base_uri": "https://localhost:8080/",
          "height": 300
        },
        "id": "YLP1BIm7GvGy",
        "outputId": "0cc45ef7-3e0a-4667-e420-08e57509ccd0"
      },
      "execution_count": null,
      "outputs": [
        {
          "output_type": "execute_result",
          "data": {
            "text/plain": [
              "       Price_Usd     Volume24h     Volume30d     MarketCap  Dominance  \\\n",
              "count    8559.00  8.559000e+03  8.559000e+03  8.559000e+03    8559.00   \n",
              "mean      157.11  1.803037e+07  3.194654e+08  1.358948e+08       0.01   \n",
              "std      5964.31  7.241718e+08  1.009673e+10  5.713494e+09       0.51   \n",
              "min         0.00  0.000000e+00  0.000000e+00  0.000000e+00       0.00   \n",
              "25%         0.00  7.928000e+01  2.396280e+03  0.000000e+00       0.00   \n",
              "50%         0.01  7.291430e+03  2.144182e+05  0.000000e+00       0.00   \n",
              "75%         0.09  1.116917e+05  3.265517e+06  9.085793e+04       0.00   \n",
              "max    522027.81  5.244734e+10  6.490000e+11  4.750000e+11      42.63   \n",
              "\n",
              "       YtdPriceChangePercentage  cmcRank  marketPairCount  circulatingSupply  \\\n",
              "count              8.559000e+03  8559.00          8559.00       8.559000e+03   \n",
              "mean               1.012127e+07  4280.00          4990.92       1.591387e+14   \n",
              "std                9.326537e+08  2470.91          4990.79       1.074083e+16   \n",
              "min               -1.000000e+02     1.00             1.00       0.000000e+00   \n",
              "25%               -2.980000e+00  2140.50             1.00       0.000000e+00   \n",
              "50%                1.963000e+01  4280.00             1.00       0.000000e+00   \n",
              "75%                5.320000e+01  6419.50          9982.00       8.953728e+06   \n",
              "max                8.628369e+10  8559.00          9982.00       9.820000e+17   \n",
              "\n",
              "        totalSupply  \n",
              "count  8.559000e+03  \n",
              "mean   2.085933e+15  \n",
              "std    3.666778e+16  \n",
              "min    0.000000e+00  \n",
              "25%    3.425135e+06  \n",
              "50%    1.489956e+08  \n",
              "75%    1.141749e+09  \n",
              "max    1.000000e+18  "
            ],
            "text/html": [
              "\n",
              "  <div id=\"df-0d3a2abb-1a35-4ec5-b33e-63b5a918830e\">\n",
              "    <div class=\"colab-df-container\">\n",
              "      <div>\n",
              "<style scoped>\n",
              "    .dataframe tbody tr th:only-of-type {\n",
              "        vertical-align: middle;\n",
              "    }\n",
              "\n",
              "    .dataframe tbody tr th {\n",
              "        vertical-align: top;\n",
              "    }\n",
              "\n",
              "    .dataframe thead th {\n",
              "        text-align: right;\n",
              "    }\n",
              "</style>\n",
              "<table border=\"1\" class=\"dataframe\">\n",
              "  <thead>\n",
              "    <tr style=\"text-align: right;\">\n",
              "      <th></th>\n",
              "      <th>Price_Usd</th>\n",
              "      <th>Volume24h</th>\n",
              "      <th>Volume30d</th>\n",
              "      <th>MarketCap</th>\n",
              "      <th>Dominance</th>\n",
              "      <th>YtdPriceChangePercentage</th>\n",
              "      <th>cmcRank</th>\n",
              "      <th>marketPairCount</th>\n",
              "      <th>circulatingSupply</th>\n",
              "      <th>totalSupply</th>\n",
              "    </tr>\n",
              "  </thead>\n",
              "  <tbody>\n",
              "    <tr>\n",
              "      <th>count</th>\n",
              "      <td>8559.00</td>\n",
              "      <td>8.559000e+03</td>\n",
              "      <td>8.559000e+03</td>\n",
              "      <td>8.559000e+03</td>\n",
              "      <td>8559.00</td>\n",
              "      <td>8.559000e+03</td>\n",
              "      <td>8559.00</td>\n",
              "      <td>8559.00</td>\n",
              "      <td>8.559000e+03</td>\n",
              "      <td>8.559000e+03</td>\n",
              "    </tr>\n",
              "    <tr>\n",
              "      <th>mean</th>\n",
              "      <td>157.11</td>\n",
              "      <td>1.803037e+07</td>\n",
              "      <td>3.194654e+08</td>\n",
              "      <td>1.358948e+08</td>\n",
              "      <td>0.01</td>\n",
              "      <td>1.012127e+07</td>\n",
              "      <td>4280.00</td>\n",
              "      <td>4990.92</td>\n",
              "      <td>1.591387e+14</td>\n",
              "      <td>2.085933e+15</td>\n",
              "    </tr>\n",
              "    <tr>\n",
              "      <th>std</th>\n",
              "      <td>5964.31</td>\n",
              "      <td>7.241718e+08</td>\n",
              "      <td>1.009673e+10</td>\n",
              "      <td>5.713494e+09</td>\n",
              "      <td>0.51</td>\n",
              "      <td>9.326537e+08</td>\n",
              "      <td>2470.91</td>\n",
              "      <td>4990.79</td>\n",
              "      <td>1.074083e+16</td>\n",
              "      <td>3.666778e+16</td>\n",
              "    </tr>\n",
              "    <tr>\n",
              "      <th>min</th>\n",
              "      <td>0.00</td>\n",
              "      <td>0.000000e+00</td>\n",
              "      <td>0.000000e+00</td>\n",
              "      <td>0.000000e+00</td>\n",
              "      <td>0.00</td>\n",
              "      <td>-1.000000e+02</td>\n",
              "      <td>1.00</td>\n",
              "      <td>1.00</td>\n",
              "      <td>0.000000e+00</td>\n",
              "      <td>0.000000e+00</td>\n",
              "    </tr>\n",
              "    <tr>\n",
              "      <th>25%</th>\n",
              "      <td>0.00</td>\n",
              "      <td>7.928000e+01</td>\n",
              "      <td>2.396280e+03</td>\n",
              "      <td>0.000000e+00</td>\n",
              "      <td>0.00</td>\n",
              "      <td>-2.980000e+00</td>\n",
              "      <td>2140.50</td>\n",
              "      <td>1.00</td>\n",
              "      <td>0.000000e+00</td>\n",
              "      <td>3.425135e+06</td>\n",
              "    </tr>\n",
              "    <tr>\n",
              "      <th>50%</th>\n",
              "      <td>0.01</td>\n",
              "      <td>7.291430e+03</td>\n",
              "      <td>2.144182e+05</td>\n",
              "      <td>0.000000e+00</td>\n",
              "      <td>0.00</td>\n",
              "      <td>1.963000e+01</td>\n",
              "      <td>4280.00</td>\n",
              "      <td>1.00</td>\n",
              "      <td>0.000000e+00</td>\n",
              "      <td>1.489956e+08</td>\n",
              "    </tr>\n",
              "    <tr>\n",
              "      <th>75%</th>\n",
              "      <td>0.09</td>\n",
              "      <td>1.116917e+05</td>\n",
              "      <td>3.265517e+06</td>\n",
              "      <td>9.085793e+04</td>\n",
              "      <td>0.00</td>\n",
              "      <td>5.320000e+01</td>\n",
              "      <td>6419.50</td>\n",
              "      <td>9982.00</td>\n",
              "      <td>8.953728e+06</td>\n",
              "      <td>1.141749e+09</td>\n",
              "    </tr>\n",
              "    <tr>\n",
              "      <th>max</th>\n",
              "      <td>522027.81</td>\n",
              "      <td>5.244734e+10</td>\n",
              "      <td>6.490000e+11</td>\n",
              "      <td>4.750000e+11</td>\n",
              "      <td>42.63</td>\n",
              "      <td>8.628369e+10</td>\n",
              "      <td>8559.00</td>\n",
              "      <td>9982.00</td>\n",
              "      <td>9.820000e+17</td>\n",
              "      <td>1.000000e+18</td>\n",
              "    </tr>\n",
              "  </tbody>\n",
              "</table>\n",
              "</div>\n",
              "      <button class=\"colab-df-convert\" onclick=\"convertToInteractive('df-0d3a2abb-1a35-4ec5-b33e-63b5a918830e')\"\n",
              "              title=\"Convert this dataframe to an interactive table.\"\n",
              "              style=\"display:none;\">\n",
              "        \n",
              "  <svg xmlns=\"http://www.w3.org/2000/svg\" height=\"24px\"viewBox=\"0 0 24 24\"\n",
              "       width=\"24px\">\n",
              "    <path d=\"M0 0h24v24H0V0z\" fill=\"none\"/>\n",
              "    <path d=\"M18.56 5.44l.94 2.06.94-2.06 2.06-.94-2.06-.94-.94-2.06-.94 2.06-2.06.94zm-11 1L8.5 8.5l.94-2.06 2.06-.94-2.06-.94L8.5 2.5l-.94 2.06-2.06.94zm10 10l.94 2.06.94-2.06 2.06-.94-2.06-.94-.94-2.06-.94 2.06-2.06.94z\"/><path d=\"M17.41 7.96l-1.37-1.37c-.4-.4-.92-.59-1.43-.59-.52 0-1.04.2-1.43.59L10.3 9.45l-7.72 7.72c-.78.78-.78 2.05 0 2.83L4 21.41c.39.39.9.59 1.41.59.51 0 1.02-.2 1.41-.59l7.78-7.78 2.81-2.81c.8-.78.8-2.07 0-2.86zM5.41 20L4 18.59l7.72-7.72 1.47 1.35L5.41 20z\"/>\n",
              "  </svg>\n",
              "      </button>\n",
              "      \n",
              "  <style>\n",
              "    .colab-df-container {\n",
              "      display:flex;\n",
              "      flex-wrap:wrap;\n",
              "      gap: 12px;\n",
              "    }\n",
              "\n",
              "    .colab-df-convert {\n",
              "      background-color: #E8F0FE;\n",
              "      border: none;\n",
              "      border-radius: 50%;\n",
              "      cursor: pointer;\n",
              "      display: none;\n",
              "      fill: #1967D2;\n",
              "      height: 32px;\n",
              "      padding: 0 0 0 0;\n",
              "      width: 32px;\n",
              "    }\n",
              "\n",
              "    .colab-df-convert:hover {\n",
              "      background-color: #E2EBFA;\n",
              "      box-shadow: 0px 1px 2px rgba(60, 64, 67, 0.3), 0px 1px 3px 1px rgba(60, 64, 67, 0.15);\n",
              "      fill: #174EA6;\n",
              "    }\n",
              "\n",
              "    [theme=dark] .colab-df-convert {\n",
              "      background-color: #3B4455;\n",
              "      fill: #D2E3FC;\n",
              "    }\n",
              "\n",
              "    [theme=dark] .colab-df-convert:hover {\n",
              "      background-color: #434B5C;\n",
              "      box-shadow: 0px 1px 3px 1px rgba(0, 0, 0, 0.15);\n",
              "      filter: drop-shadow(0px 1px 2px rgba(0, 0, 0, 0.3));\n",
              "      fill: #FFFFFF;\n",
              "    }\n",
              "  </style>\n",
              "\n",
              "      <script>\n",
              "        const buttonEl =\n",
              "          document.querySelector('#df-0d3a2abb-1a35-4ec5-b33e-63b5a918830e button.colab-df-convert');\n",
              "        buttonEl.style.display =\n",
              "          google.colab.kernel.accessAllowed ? 'block' : 'none';\n",
              "\n",
              "        async function convertToInteractive(key) {\n",
              "          const element = document.querySelector('#df-0d3a2abb-1a35-4ec5-b33e-63b5a918830e');\n",
              "          const dataTable =\n",
              "            await google.colab.kernel.invokeFunction('convertToInteractive',\n",
              "                                                     [key], {});\n",
              "          if (!dataTable) return;\n",
              "\n",
              "          const docLinkHtml = 'Like what you see? Visit the ' +\n",
              "            '<a target=\"_blank\" href=https://colab.research.google.com/notebooks/data_table.ipynb>data table notebook</a>'\n",
              "            + ' to learn more about interactive tables.';\n",
              "          element.innerHTML = '';\n",
              "          dataTable['output_type'] = 'display_data';\n",
              "          await google.colab.output.renderOutput(dataTable, element);\n",
              "          const docLink = document.createElement('div');\n",
              "          docLink.innerHTML = docLinkHtml;\n",
              "          element.appendChild(docLink);\n",
              "        }\n",
              "      </script>\n",
              "    </div>\n",
              "  </div>\n",
              "  "
            ]
          },
          "metadata": {},
          "execution_count": 12
        }
      ]
    },
    {
      "cell_type": "code",
      "source": [
        "plt.figure(figsize=(24,20))\n",
        "plt.subplot(3, 3, 1)\n",
        "fig = df.boxplot(column='Price_Usd')\n",
        "fig.set_title('')\n",
        "fig.set_ylabel('Price_Usd')\n",
        "plt.subplot(3, 3, 2)\n",
        "fig = df.boxplot(column='Volume24h')\n",
        "fig.set_title('')\n",
        "fig.set_ylabel('Volume24h')\n",
        "plt.subplot(3, 3, 3)\n",
        "fig = df.boxplot(column='Volume30d')\n",
        "fig.set_title('')\n",
        "fig.set_ylabel('Volume30d')\n",
        "plt.subplot(3, 3, 4)\n",
        "fig = df.boxplot(column='MarketCap')\n",
        "fig.set_title('')\n",
        "fig.set_ylabel('MarketCap')\n",
        "plt.subplot(3, 3, 5)\n",
        "fig = df.boxplot(column='Dominance')\n",
        "fig.set_title('')\n",
        "fig.set_ylabel('Dominance')\n",
        "plt.subplot(3, 3, 6)\n",
        "fig = df.boxplot(column='YtdPriceChangePercentage')\n",
        "fig.set_title('')\n",
        "fig.set_ylabel('YtdPriceChangePercentage')\n",
        "plt.subplot(3, 3, 7)\n",
        "fig = df.boxplot(column='cmcRank')\n",
        "fig.set_title('')\n",
        "fig.set_ylabel('cmcRank')\n",
        "plt.subplot(3, 3, 8)\n",
        "fig = df.boxplot(column='circulatingSupply')\n",
        "fig.set_title('')\n",
        "fig.set_ylabel('circulatingSupply')\n",
        "plt.subplot(3, 3, 9)\n",
        "fig = df.boxplot(column='totalSupply')\n",
        "fig.set_title('')\n",
        "fig.set_ylabel('totalSupply')"
      ],
      "metadata": {
        "colab": {
          "base_uri": "https://localhost:8080/",
          "height": 1000
        },
        "id": "yYXcxqJNGxcC",
        "outputId": "50caff7a-da66-4333-a28b-f16c4e7c7cdb"
      },
      "execution_count": null,
      "outputs": [
        {
          "output_type": "execute_result",
          "data": {
            "text/plain": [
              "Text(0, 0.5, 'totalSupply')"
            ]
          },
          "metadata": {},
          "execution_count": 13
        },
        {
          "output_type": "display_data",
          "data": {
            "text/plain": [
              "<Figure size 1728x1440 with 9 Axes>"
            ],
            "image/png": "[encoded data removed]"
          },
          "metadata": {
            "needs_background": "light"
          }
        }
      ]
    },
    {
      "cell_type": "code",
      "source": [
        "plt.figure(figsize=(24,20))\n",
        "plt.subplot(3, 3, 1)\n",
        "fig = df['Price_Usd'].hist(bins=20)\n",
        "fig.set_xlabel('Price_Usd')\n",
        "fig.set_ylabel('Cryptocurrency')\n",
        "plt.subplot(3, 3, 2)\n",
        "fig = df['Volume24h'].hist(bins=20)\n",
        "fig.set_xlabel('Volume24h')\n",
        "fig.set_ylabel('Cryptocurrency')\n",
        "plt.subplot(3, 3, 3)\n",
        "fig = df['Volume30d'].hist(bins=20)\n",
        "fig.set_xlabel('Volume30d')\n",
        "fig.set_ylabel('Cryptocurrency')\n",
        "plt.subplot(3, 3, 4)\n",
        "fig = df['MarketCap'].hist(bins=20)\n",
        "fig.set_xlabel('MarketCap')\n",
        "fig.set_ylabel('Cryptocurrency')\n",
        "plt.subplot(3, 3, 5)\n",
        "fig = df['Dominance'].hist(bins=20)\n",
        "fig.set_xlabel('Dominance')\n",
        "fig.set_ylabel('Cryptocurrency')\n",
        "plt.subplot(3, 3, 6)\n",
        "fig = df['YtdPriceChangePercentage'].hist(bins=20)\n",
        "fig.set_xlabel('YtdPriceChangePercentage')\n",
        "fig.set_ylabel('Cryptocurrency')\n",
        "plt.subplot(3, 3, 7)\n",
        "fig = df['cmcRank'].hist(bins=20)\n",
        "fig.set_xlabel('cmcRank')\n",
        "fig.set_ylabel('Cryptocurrency')\n",
        "plt.subplot(3, 3, 8)\n",
        "fig = df['circulatingSupply'].hist(bins=20)\n",
        "fig.set_xlabel('circulatingSupply')\n",
        "fig.set_ylabel('Cryptocurrency')\n",
        "plt.subplot(3, 3, 9)\n",
        "fig = df['totalSupply'].hist(bins=20)\n",
        "fig.set_xlabel('totalSupply')\n",
        "fig.set_ylabel('Cryptocurrency')"
      ],
      "metadata": {
        "colab": {
          "base_uri": "https://localhost:8080/",
          "height": 1000
        },
        "id": "fDfoUrclG1i_",
        "outputId": "15331dd9-b3a0-40f0-cacd-0bae6b7d375d"
      },
      "execution_count": null,
      "outputs": [
        {
          "output_type": "execute_result",
          "data": {
            "text/plain": [
              "Text(0, 0.5, 'Cryptocurrency')"
            ]
          },
          "metadata": {},
          "execution_count": 14
        },
        {
          "output_type": "display_data",
          "data": {
            "text/plain": [
              "<Figure size 1728x1440 with 9 Axes>"
            ],
            "image/png": "[encoded data removed]"
          },
          "metadata": {
            "needs_background": "light"
          }
        }
      ]
    },
    {
      "cell_type": "code",
      "source": [
        "X = df.drop(['Name','Symbol','marketPairCount'], axis=1)\n",
        "y = df['marketPairCount']"
      ],
      "metadata": {
        "id": "6dTz4LkeG55T"
      },
      "execution_count": null,
      "outputs": []
    },
    {
      "cell_type": "code",
      "source": [
        "from sklearn.model_selection import train_test_split\n",
        "X_train, X_test, y_train, y_test = train_test_split(X, y, test_size = 0.2, random_state = 0)"
      ],
      "metadata": {
        "id": "qJU0EKA3G8pK"
      },
      "execution_count": null,
      "outputs": []
    },
    {
      "cell_type": "code",
      "source": [
        "X_train.shape, X_test.shape"
      ],
      "metadata": {
        "colab": {
          "base_uri": "https://localhost:8080/"
        },
        "id": "7pida-guG-0c",
        "outputId": "7a763b23-2f9f-4d35-d8c3-66b362ce72c4"
      },
      "execution_count": null,
      "outputs": [
        {
          "output_type": "execute_result",
          "data": {
            "text/plain": [
              "((6847, 9), (1712, 9))"
            ]
          },
          "metadata": {},
          "execution_count": 17
        }
      ]
    },
    {
      "cell_type": "code",
      "source": [
        "cols = X_train.columns"
      ],
      "metadata": {
        "id": "rNR3VeeSHBCZ"
      },
      "execution_count": null,
      "outputs": []
    },
    {
      "cell_type": "code",
      "source": [
        "from sklearn.preprocessing import StandardScaler\n",
        "scaler = StandardScaler()\n",
        "X_train = scaler.fit_transform(X_train)\n",
        "X_test = scaler.transform(X_test)"
      ],
      "metadata": {
        "id": "1F0Z8WNNHDM9"
      },
      "execution_count": null,
      "outputs": []
    },
    {
      "cell_type": "code",
      "source": [
        "X_train = pd.DataFrame(X_train, columns=[cols])"
      ],
      "metadata": {
        "id": "rVvXHVToHGQK"
      },
      "execution_count": null,
      "outputs": []
    },
    {
      "cell_type": "code",
      "source": [
        "X_test = pd.DataFrame(X_test, columns=[cols])"
      ],
      "metadata": {
        "id": "dEwi81twHISk"
      },
      "execution_count": null,
      "outputs": []
    },
    {
      "cell_type": "code",
      "source": [
        "X_train.describe()"
      ],
      "metadata": {
        "colab": {
          "base_uri": "https://localhost:8080/",
          "height": 300
        },
        "id": "zP2qm5K6HKcW",
        "outputId": "5364a6cb-0d2f-4a93-8690-f3b37bd723bc"
      },
      "execution_count": null,
      "outputs": [
        {
          "output_type": "execute_result",
          "data": {
            "text/plain": [
              "          Price_Usd     Volume24h     Volume30d     MarketCap     Dominance  \\\n",
              "count  6.847000e+03  6.847000e+03  6.847000e+03  6.847000e+03  6.847000e+03   \n",
              "mean  -4.150973e-18  3.113229e-18 -1.556615e-17 -1.556615e-18  5.707587e-18   \n",
              "std    1.000073e+00  1.000073e+00  1.000073e+00  1.000073e+00  1.000073e+00   \n",
              "min   -2.720628e-02 -2.639598e-02 -3.304138e-02 -2.468854e-02 -2.404951e-02   \n",
              "25%   -2.720623e-02 -2.639588e-02 -3.304117e-02 -2.468854e-02 -2.404951e-02   \n",
              "50%   -2.720538e-02 -2.638683e-02 -3.302195e-02 -2.468854e-02 -2.404951e-02   \n",
              "75%   -2.719213e-02 -2.625950e-02 -3.275364e-02 -2.467396e-02 -2.404951e-02   \n",
              "max    7.853157e+01  6.477513e+01  5.750337e+01  7.439443e+01  7.442397e+01   \n",
              "\n",
              "      YtdPriceChangePercentage       cmcRank circulatingSupply   totalSupply  \n",
              "count             6.847000e+03  6.847000e+03      6.847000e+03  6.847000e+03  \n",
              "mean              3.113229e-18 -1.463218e-16      9.858560e-18 -1.141517e-17  \n",
              "std               1.000073e+00  1.000073e+00      1.000073e+00  1.000073e+00  \n",
              "min              -1.213418e-02 -1.727988e+00     -2.661056e-02 -5.829242e-02  \n",
              "25%              -1.213408e-02 -8.644620e-01     -2.661056e-02 -5.829242e-02  \n",
              "50%              -1.213406e-02 -5.792180e-03     -2.661056e-02 -5.829242e-02  \n",
              "75%              -1.213403e-02  8.615777e-01     -2.661056e-02 -5.829239e-02  \n",
              "max               8.273991e+01  1.735017e+00      6.532535e+01  2.687060e+01  "
            ],
            "text/html": [
              "\n",
              "  <div id=\"df-3d5bdf40-1c60-4ac4-9d71-d9bf6ae8befe\">\n",
              "    <div class=\"colab-df-container\">\n",
              "      <div>\n",
              "<style scoped>\n",
              "    .dataframe tbody tr th:only-of-type {\n",
              "        vertical-align: middle;\n",
              "    }\n",
              "\n",
              "    .dataframe tbody tr th {\n",
              "        vertical-align: top;\n",
              "    }\n",
              "\n",
              "    .dataframe thead tr th {\n",
              "        text-align: left;\n",
              "    }\n",
              "</style>\n",
              "<table border=\"1\" class=\"dataframe\">\n",
              "  <thead>\n",
              "    <tr>\n",
              "      <th></th>\n",
              "      <th>Price_Usd</th>\n",
              "      <th>Volume24h</th>\n",
              "      <th>Volume30d</th>\n",
              "      <th>MarketCap</th>\n",
              "      <th>Dominance</th>\n",
              "      <th>YtdPriceChangePercentage</th>\n",
              "      <th>cmcRank</th>\n",
              "      <th>circulatingSupply</th>\n",
              "      <th>totalSupply</th>\n",
              "    </tr>\n",
              "  </thead>\n",
              "  <tbody>\n",
              "    <tr>\n",
              "      <th>count</th>\n",
              "      <td>6.847000e+03</td>\n",
              "      <td>6.847000e+03</td>\n",
              "      <td>6.847000e+03</td>\n",
              "      <td>6.847000e+03</td>\n",
              "      <td>6.847000e+03</td>\n",
              "      <td>6.847000e+03</td>\n",
              "      <td>6.847000e+03</td>\n",
              "      <td>6.847000e+03</td>\n",
              "      <td>6.847000e+03</td>\n",
              "    </tr>\n",
              "    <tr>\n",
              "      <th>mean</th>\n",
              "      <td>-4.150973e-18</td>\n",
              "      <td>3.113229e-18</td>\n",
              "      <td>-1.556615e-17</td>\n",
              "      <td>-1.556615e-18</td>\n",
              "      <td>5.707587e-18</td>\n",
              "      <td>3.113229e-18</td>\n",
              "      <td>-1.463218e-16</td>\n",
              "      <td>9.858560e-18</td>\n",
              "      <td>-1.141517e-17</td>\n",
              "    </tr>\n",
              "    <tr>\n",
              "      <th>std</th>\n",
              "      <td>1.000073e+00</td>\n",
              "      <td>1.000073e+00</td>\n",
              "      <td>1.000073e+00</td>\n",
              "      <td>1.000073e+00</td>\n",
              "      <td>1.000073e+00</td>\n",
              "      <td>1.000073e+00</td>\n",
              "      <td>1.000073e+00</td>\n",
              "      <td>1.000073e+00</td>\n",
              "      <td>1.000073e+00</td>\n",
              "    </tr>\n",
              "    <tr>\n",
              "      <th>min</th>\n",
              "      <td>-2.720628e-02</td>\n",
              "      <td>-2.639598e-02</td>\n",
              "      <td>-3.304138e-02</td>\n",
              "      <td>-2.468854e-02</td>\n",
              "      <td>-2.404951e-02</td>\n",
              "      <td>-1.213418e-02</td>\n",
              "      <td>-1.727988e+00</td>\n",
              "      <td>-2.661056e-02</td>\n",
              "      <td>-5.829242e-02</td>\n",
              "    </tr>\n",
              "    <tr>\n",
              "      <th>25%</th>\n",
              "      <td>-2.720623e-02</td>\n",
              "      <td>-2.639588e-02</td>\n",
              "      <td>-3.304117e-02</td>\n",
              "      <td>-2.468854e-02</td>\n",
              "      <td>-2.404951e-02</td>\n",
              "      <td>-1.213408e-02</td>\n",
              "      <td>-8.644620e-01</td>\n",
              "      <td>-2.661056e-02</td>\n",
              "      <td>-5.829242e-02</td>\n",
              "    </tr>\n",
              "    <tr>\n",
              "      <th>50%</th>\n",
              "      <td>-2.720538e-02</td>\n",
              "      <td>-2.638683e-02</td>\n",
              "      <td>-3.302195e-02</td>\n",
              "      <td>-2.468854e-02</td>\n",
              "      <td>-2.404951e-02</td>\n",
              "      <td>-1.213406e-02</td>\n",
              "      <td>-5.792180e-03</td>\n",
              "      <td>-2.661056e-02</td>\n",
              "      <td>-5.829242e-02</td>\n",
              "    </tr>\n",
              "    <tr>\n",
              "      <th>75%</th>\n",
              "      <td>-2.719213e-02</td>\n",
              "      <td>-2.625950e-02</td>\n",
              "      <td>-3.275364e-02</td>\n",
              "      <td>-2.467396e-02</td>\n",
              "      <td>-2.404951e-02</td>\n",
              "      <td>-1.213403e-02</td>\n",
              "      <td>8.615777e-01</td>\n",
              "      <td>-2.661056e-02</td>\n",
              "      <td>-5.829239e-02</td>\n",
              "    </tr>\n",
              "    <tr>\n",
              "      <th>max</th>\n",
              "      <td>7.853157e+01</td>\n",
              "      <td>6.477513e+01</td>\n",
              "      <td>5.750337e+01</td>\n",
              "      <td>7.439443e+01</td>\n",
              "      <td>7.442397e+01</td>\n",
              "      <td>8.273991e+01</td>\n",
              "      <td>1.735017e+00</td>\n",
              "      <td>6.532535e+01</td>\n",
              "      <td>2.687060e+01</td>\n",
              "    </tr>\n",
              "  </tbody>\n",
              "</table>\n",
              "</div>\n",
              "      <button class=\"colab-df-convert\" onclick=\"convertToInteractive('df-3d5bdf40-1c60-4ac4-9d71-d9bf6ae8befe')\"\n",
              "              title=\"Convert this dataframe to an interactive table.\"\n",
              "              style=\"display:none;\">\n",
              "        \n",
              "  <svg xmlns=\"http://www.w3.org/2000/svg\" height=\"24px\"viewBox=\"0 0 24 24\"\n",
              "       width=\"24px\">\n",
              "    <path d=\"M0 0h24v24H0V0z\" fill=\"none\"/>\n",
              "    <path d=\"M18.56 5.44l.94 2.06.94-2.06 2.06-.94-2.06-.94-.94-2.06-.94 2.06-2.06.94zm-11 1L8.5 8.5l.94-2.06 2.06-.94-2.06-.94L8.5 2.5l-.94 2.06-2.06.94zm10 10l.94 2.06.94-2.06 2.06-.94-2.06-.94-.94-2.06-.94 2.06-2.06.94z\"/><path d=\"M17.41 7.96l-1.37-1.37c-.4-.4-.92-.59-1.43-.59-.52 0-1.04.2-1.43.59L10.3 9.45l-7.72 7.72c-.78.78-.78 2.05 0 2.83L4 21.41c.39.39.9.59 1.41.59.51 0 1.02-.2 1.41-.59l7.78-7.78 2.81-2.81c.8-.78.8-2.07 0-2.86zM5.41 20L4 18.59l7.72-7.72 1.47 1.35L5.41 20z\"/>\n",
              "  </svg>\n",
              "      </button>\n",
              "      \n",
              "  <style>\n",
              "    .colab-df-container {\n",
              "      display:flex;\n",
              "      flex-wrap:wrap;\n",
              "      gap: 12px;\n",
              "    }\n",
              "\n",
              "    .colab-df-convert {\n",
              "      background-color: #E8F0FE;\n",
              "      border: none;\n",
              "      border-radius: 50%;\n",
              "      cursor: pointer;\n",
              "      display: none;\n",
              "      fill: #1967D2;\n",
              "      height: 32px;\n",
              "      padding: 0 0 0 0;\n",
              "      width: 32px;\n",
              "    }\n",
              "\n",
              "    .colab-df-convert:hover {\n",
              "      background-color: #E2EBFA;\n",
              "      box-shadow: 0px 1px 2px rgba(60, 64, 67, 0.3), 0px 1px 3px 1px rgba(60, 64, 67, 0.15);\n",
              "      fill: #174EA6;\n",
              "    }\n",
              "\n",
              "    [theme=dark] .colab-df-convert {\n",
              "      background-color: #3B4455;\n",
              "      fill: #D2E3FC;\n",
              "    }\n",
              "\n",
              "    [theme=dark] .colab-df-convert:hover {\n",
              "      background-color: #434B5C;\n",
              "      box-shadow: 0px 1px 3px 1px rgba(0, 0, 0, 0.15);\n",
              "      filter: drop-shadow(0px 1px 2px rgba(0, 0, 0, 0.3));\n",
              "      fill: #FFFFFF;\n",
              "    }\n",
              "  </style>\n",
              "\n",
              "      <script>\n",
              "        const buttonEl =\n",
              "          document.querySelector('#df-3d5bdf40-1c60-4ac4-9d71-d9bf6ae8befe button.colab-df-convert');\n",
              "        buttonEl.style.display =\n",
              "          google.colab.kernel.accessAllowed ? 'block' : 'none';\n",
              "\n",
              "        async function convertToInteractive(key) {\n",
              "          const element = document.querySelector('#df-3d5bdf40-1c60-4ac4-9d71-d9bf6ae8befe');\n",
              "          const dataTable =\n",
              "            await google.colab.kernel.invokeFunction('convertToInteractive',\n",
              "                                                     [key], {});\n",
              "          if (!dataTable) return;\n",
              "\n",
              "          const docLinkHtml = 'Like what you see? Visit the ' +\n",
              "            '<a target=\"_blank\" href=https://colab.research.google.com/notebooks/data_table.ipynb>data table notebook</a>'\n",
              "            + ' to learn more about interactive tables.';\n",
              "          element.innerHTML = '';\n",
              "          dataTable['output_type'] = 'display_data';\n",
              "          await google.colab.output.renderOutput(dataTable, element);\n",
              "          const docLink = document.createElement('div');\n",
              "          docLink.innerHTML = docLinkHtml;\n",
              "          element.appendChild(docLink);\n",
              "        }\n",
              "      </script>\n",
              "    </div>\n",
              "  </div>\n",
              "  "
            ]
          },
          "metadata": {},
          "execution_count": 22
        }
      ]
    },
    {
      "cell_type": "code",
      "source": [
        "from sklearn.svm import SVC\n",
        "from sklearn.metrics import accuracy_score\n",
        "svc=SVC() \n",
        "svc.fit(X_train,y_train)\n",
        "y_pred=svc.predict(X_test)\n",
        "print('Model accuracy score with default hyperparameters: {0:0.4f}'. format(accuracy_score(y_test, y_pred)))"
      ],
      "metadata": {
        "colab": {
          "base_uri": "https://localhost:8080/"
        },
        "id": "lJm92q3aHMmd",
        "outputId": "564ed2ad-3679-45c0-8192-37434edcbbb9"
      },
      "execution_count": null,
      "outputs": [
        {
          "output_type": "stream",
          "name": "stdout",
          "text": [
            "Model accuracy score with default hyperparameters: 1.0000\n"
          ]
        }
      ]
    },
    {
      "cell_type": "code",
      "source": [
        "svc=SVC(C=100.0) \n",
        "svc.fit(X_train,y_train)\n",
        "y_pred=svc.predict(X_test)\n",
        "print('Model accuracy score with rbf kernel and C=100.0 : {0:0.4f}'. format(accuracy_score(y_test, y_pred)))"
      ],
      "metadata": {
        "colab": {
          "base_uri": "https://localhost:8080/"
        },
        "id": "OxuopO1OHPM6",
        "outputId": "279f5be3-d9eb-4e61-b512-5991323c104e"
      },
      "execution_count": null,
      "outputs": [
        {
          "output_type": "stream",
          "name": "stdout",
          "text": [
            "Model accuracy score with rbf kernel and C=100.0 : 1.0000\n"
          ]
        }
      ]
    },
    {
      "cell_type": "code",
      "source": [
        "svc=SVC(C=1000.0) \n",
        "svc.fit(X_train,y_train)\n",
        "y_pred=svc.predict(X_test)\n",
        "print('Model accuracy score with rbf kernel and C=1000.0 : {0:0.4f}'. format(accuracy_score(y_test, y_pred)))"
      ],
      "metadata": {
        "colab": {
          "base_uri": "https://localhost:8080/"
        },
        "id": "ERFBOzruHRUg",
        "outputId": "61152d66-6da1-47f3-92bc-064aeddd4810"
      },
      "execution_count": null,
      "outputs": [
        {
          "output_type": "stream",
          "name": "stdout",
          "text": [
            "Model accuracy score with rbf kernel and C=1000.0 : 1.0000\n"
          ]
        }
      ]
    },
    {
      "cell_type": "code",
      "source": [
        "linear_svc=SVC(kernel='linear', C=1.0) \n",
        "linear_svc.fit(X_train,y_train)\n",
        "y_pred_test=linear_svc.predict(X_test)\n",
        "print('Model accuracy score with linear kernel and C=1.0 : {0:0.4f}'. format(accuracy_score(y_test, y_pred_test)))"
      ],
      "metadata": {
        "colab": {
          "base_uri": "https://localhost:8080/"
        },
        "id": "rNE2CeZMHTjP",
        "outputId": "8c53a998-00f6-49a9-b3b2-be28a7aab2e4"
      },
      "execution_count": null,
      "outputs": [
        {
          "output_type": "stream",
          "name": "stdout",
          "text": [
            "Model accuracy score with linear kernel and C=1.0 : 1.0000\n"
          ]
        }
      ]
    },
    {
      "cell_type": "code",
      "source": [
        "linear_svc100=SVC(kernel='linear', C=100.0) \n",
        "linear_svc100.fit(X_train, y_train)\n",
        "y_pred=linear_svc100.predict(X_test)\n",
        "print('Model accuracy score with linear kernel and C=100.0 : {0:0.4f}'. format(accuracy_score(y_test, y_pred)))"
      ],
      "metadata": {
        "colab": {
          "base_uri": "https://localhost:8080/"
        },
        "id": "6Y-A_YJyHVup",
        "outputId": "2ff381a2-fa19-4475-84fe-ec27866c8c20"
      },
      "execution_count": null,
      "outputs": [
        {
          "output_type": "stream",
          "name": "stdout",
          "text": [
            "Model accuracy score with linear kernel and C=100.0 : 1.0000\n"
          ]
        }
      ]
    },
    {
      "cell_type": "code",
      "source": [
        "linear_svc1000=SVC(kernel='linear', C=1000.0) \n",
        "linear_svc1000.fit(X_train, y_train)\n",
        "y_pred=linear_svc1000.predict(X_test)\n",
        "print('Model accuracy score with linear kernel and C=1000.0 : {0:0.4f}'. format(accuracy_score(y_test, y_pred)))"
      ],
      "metadata": {
        "colab": {
          "base_uri": "https://localhost:8080/"
        },
        "id": "QogUnoAuHX0J",
        "outputId": "78050ba5-b2c6-4c27-fcb0-3276fc401dab"
      },
      "execution_count": null,
      "outputs": [
        {
          "output_type": "stream",
          "name": "stdout",
          "text": [
            "Model accuracy score with linear kernel and C=1000.0 : 1.0000\n"
          ]
        }
      ]
    },
    {
      "cell_type": "code",
      "source": [
        "y_pred_train = linear_svc.predict(X_train)\n",
        "y_pred_train"
      ],
      "metadata": {
        "colab": {
          "base_uri": "https://localhost:8080/"
        },
        "id": "hf2bGETVHabo",
        "outputId": "cb102263-0094-4779-dbb8-d328485362dd"
      },
      "execution_count": null,
      "outputs": [
        {
          "output_type": "execute_result",
          "data": {
            "text/plain": [
              "array([9982, 9982,    1, ...,    1, 9982, 9982])"
            ]
          },
          "metadata": {},
          "execution_count": 29
        }
      ]
    },
    {
      "cell_type": "code",
      "source": [
        "print('Training-set accuracy score: {0:0.4f}'. format(accuracy_score(y_train, y_pred_train)))"
      ],
      "metadata": {
        "colab": {
          "base_uri": "https://localhost:8080/"
        },
        "id": "JoJKqqhGHcZa",
        "outputId": "dd1de90a-6be2-4f6d-bf09-7b6def323e58"
      },
      "execution_count": null,
      "outputs": [
        {
          "output_type": "stream",
          "name": "stdout",
          "text": [
            "Training-set accuracy score: 0.9991\n"
          ]
        }
      ]
    },
    {
      "cell_type": "code",
      "source": [
        "print('Training set score: {:.4f}'.format(linear_svc.score(X_train, y_train)))\n",
        "print('Test set score: {:.4f}'.format(linear_svc.score(X_test, y_test)))"
      ],
      "metadata": {
        "colab": {
          "base_uri": "https://localhost:8080/"
        },
        "id": "uSkgF6QbHe-w",
        "outputId": "d23811eb-e006-4f0f-cdac-7ced1f516139"
      },
      "execution_count": null,
      "outputs": [
        {
          "output_type": "stream",
          "name": "stdout",
          "text": [
            "Training set score: 0.9991\n",
            "Test set score: 1.0000\n"
          ]
        }
      ]
    },
    {
      "cell_type": "code",
      "source": [
        "y_test.value_counts()"
      ],
      "metadata": {
        "colab": {
          "base_uri": "https://localhost:8080/"
        },
        "id": "RMJ0Tq2XHhGk",
        "outputId": "7fff9f40-71b6-4ee0-c1ed-3801fa349056"
      },
      "execution_count": null,
      "outputs": [
        {
          "output_type": "execute_result",
          "data": {
            "text/plain": [
              "1       873\n",
              "9982    839\n",
              "Name: marketPairCount, dtype: int64"
            ]
          },
          "metadata": {},
          "execution_count": 32
        }
      ]
    },
    {
      "cell_type": "code",
      "source": [
        "null_accuracy = (3306/(3306+274))\n",
        "print('Null accuracy score: {0:0.4f}'. format(null_accuracy))"
      ],
      "metadata": {
        "colab": {
          "base_uri": "https://localhost:8080/"
        },
        "id": "MpNOXGnbHjIZ",
        "outputId": "0b798bbd-5100-400a-ede0-5d2f4f797605"
      },
      "execution_count": null,
      "outputs": [
        {
          "output_type": "stream",
          "name": "stdout",
          "text": [
            "Null accuracy score: 0.9235\n"
          ]
        }
      ]
    },
    {
      "cell_type": "code",
      "source": [
        "poly_svc=SVC(kernel='poly', C=1.0) \n",
        "poly_svc.fit(X_train,y_train)\n",
        "y_pred=poly_svc.predict(X_test)\n",
        "print('Model accuracy score with polynomial kernel and C=1.0 : {0:0.4f}'. format(accuracy_score(y_test, y_pred)))"
      ],
      "metadata": {
        "colab": {
          "base_uri": "https://localhost:8080/"
        },
        "id": "6xVY2phyHlML",
        "outputId": "33cc59cb-80b5-404c-90a5-957d9efe0299"
      },
      "execution_count": null,
      "outputs": [
        {
          "output_type": "stream",
          "name": "stdout",
          "text": [
            "Model accuracy score with polynomial kernel and C=1.0 : 0.9100\n"
          ]
        }
      ]
    },
    {
      "cell_type": "code",
      "source": [
        "poly_svc100=SVC(kernel='poly', C=100.0) \n",
        "poly_svc100.fit(X_train, y_train)\n",
        "y_pred=poly_svc100.predict(X_test)\n",
        "print('Model accuracy score with polynomial kernel and C=1.0 : {0:0.4f}'. format(accuracy_score(y_test, y_pred)))"
      ],
      "metadata": {
        "colab": {
          "base_uri": "https://localhost:8080/"
        },
        "id": "5YNKHZfoHnUC",
        "outputId": "4d402fa3-bce6-4beb-8e64-1920c55f2425"
      },
      "execution_count": null,
      "outputs": [
        {
          "output_type": "stream",
          "name": "stdout",
          "text": [
            "Model accuracy score with polynomial kernel and C=1.0 : 0.9544\n"
          ]
        }
      ]
    },
    {
      "cell_type": "code",
      "source": [
        "sigmoid_svc=SVC(kernel='sigmoid', C=1.0) \n",
        "sigmoid_svc.fit(X_train,y_train)\n",
        "y_pred=sigmoid_svc.predict(X_test)\n",
        "print('Model accuracy score with sigmoid kernel and C=1.0 : {0:0.4f}'. format(accuracy_score(y_test, y_pred)))"
      ],
      "metadata": {
        "colab": {
          "base_uri": "https://localhost:8080/"
        },
        "id": "sMAiMg6-HpKt",
        "outputId": "38995f22-beaf-4f15-8be5-5e880b7c3781"
      },
      "execution_count": null,
      "outputs": [
        {
          "output_type": "stream",
          "name": "stdout",
          "text": [
            "Model accuracy score with sigmoid kernel and C=1.0 : 0.9994\n"
          ]
        }
      ]
    },
    {
      "cell_type": "code",
      "source": [
        "sigmoid_svc100=SVC(kernel='sigmoid', C=100.0) \n",
        "sigmoid_svc100.fit(X_train,y_train)\n",
        "y_pred=sigmoid_svc100.predict(X_test)\n",
        "print('Model accuracy score with sigmoid kernel and C=100.0 : {0:0.4f}'. format(accuracy_score(y_test, y_pred)))"
      ],
      "metadata": {
        "colab": {
          "base_uri": "https://localhost:8080/"
        },
        "id": "eEh7imLcHtNF",
        "outputId": "40daaed7-6c25-4bd6-8c73-e8e9ba57fecc"
      },
      "execution_count": null,
      "outputs": [
        {
          "output_type": "stream",
          "name": "stdout",
          "text": [
            "Model accuracy score with sigmoid kernel and C=100.0 : 0.9930\n"
          ]
        }
      ]
    },
    {
      "cell_type": "code",
      "source": [
        "from sklearn.metrics import confusion_matrix\n",
        "cm = confusion_matrix(y_test, y_pred_test)\n",
        "print('Confusion matrix\\n\\n', cm)\n",
        "print('\\nTrue Positives(TP) = ', cm[0,0])\n",
        "print('\\nTrue Negatives(TN) = ', cm[1,1])\n",
        "print('\\nFalse Positives(FP) = ', cm[0,1])\n",
        "print('\\nFalse Negatives(FN) = ', cm[1,0])"
      ],
      "metadata": {
        "colab": {
          "base_uri": "https://localhost:8080/"
        },
        "id": "I3-owj9wHvh-",
        "outputId": "36d74095-6005-419d-f347-cfe7d8d9db8c"
      },
      "execution_count": null,
      "outputs": [
        {
          "output_type": "stream",
          "name": "stdout",
          "text": [
            "Confusion matrix\n",
            "\n",
            " [[873   0]\n",
            " [  0 839]]\n",
            "\n",
            "True Positives(TP) =  873\n",
            "\n",
            "True Negatives(TN) =  839\n",
            "\n",
            "False Positives(FP) =  0\n",
            "\n",
            "False Negatives(FN) =  0\n"
          ]
        }
      ]
    },
    {
      "cell_type": "code",
      "source": [
        "cm_matrix = pd.DataFrame(data=cm, columns=['Actual Positive:1', 'Actual Negative:0'], index=['Predict Positive:1', 'Predict Negative:0'])\n",
        "sns.heatmap(cm_matrix, annot=True, fmt='d', cmap='YlGnBu')"
      ],
      "metadata": {
        "colab": {
          "base_uri": "https://localhost:8080/",
          "height": 282
        },
        "id": "Y9fZxJPEHxrs",
        "outputId": "3e95341b-c51b-4a14-d91c-c0695d2179c2"
      },
      "execution_count": null,
      "outputs": [
        {
          "output_type": "execute_result",
          "data": {
            "text/plain": [
              "<matplotlib.axes._subplots.AxesSubplot at 0x7fc49b75a4f0>"
            ]
          },
          "metadata": {},
          "execution_count": 39
        },
        {
          "output_type": "display_data",
          "data": {
            "text/plain": [
              "<Figure size 432x288 with 2 Axes>"
            ],
            "image/png": "[encoded data removed]"
          },
          "metadata": {
            "needs_background": "light"
          }
        }
      ]
    },
    {
      "cell_type": "code",
      "source": [
        "from sklearn.metrics import classification_report\n",
        "print(classification_report(y_test, y_pred_test))"
      ],
      "metadata": {
        "colab": {
          "base_uri": "https://localhost:8080/"
        },
        "id": "zGiPPsyIH0KL",
        "outputId": "42a69fde-5af9-46aa-a99e-b5b273575204"
      },
      "execution_count": null,
      "outputs": [
        {
          "output_type": "stream",
          "name": "stdout",
          "text": [
            "              precision    recall  f1-score   support\n",
            "\n",
            "           1       1.00      1.00      1.00       873\n",
            "        9982       1.00      1.00      1.00       839\n",
            "\n",
            "    accuracy                           1.00      1712\n",
            "   macro avg       1.00      1.00      1.00      1712\n",
            "weighted avg       1.00      1.00      1.00      1712\n",
            "\n"
          ]
        }
      ]
    },
    {
      "cell_type": "code",
      "source": [
        "TP = cm[0,0]\n",
        "TN = cm[1,1]\n",
        "FP = cm[0,1]\n",
        "FN = cm[1,0]"
      ],
      "metadata": {
        "id": "51hiqb6AH2Qq"
      },
      "execution_count": null,
      "outputs": []
    },
    {
      "cell_type": "code",
      "source": [
        "classification_accuracy = (TP + TN) / float(TP + TN + FP + FN)\n",
        "print('Classification accuracy : {0:0.4f}'.format(classification_accuracy))"
      ],
      "metadata": {
        "colab": {
          "base_uri": "https://localhost:8080/"
        },
        "id": "VyBX34vbH4Ur",
        "outputId": "98481f77-52dc-49a1-d4c0-08495f1a009d"
      },
      "execution_count": null,
      "outputs": [
        {
          "output_type": "stream",
          "name": "stdout",
          "text": [
            "Classification accuracy : 1.0000\n"
          ]
        }
      ]
    },
    {
      "cell_type": "code",
      "source": [
        "classification_error = (FP + FN) / float(TP + TN + FP + FN)\n",
        "print('Classification error : {0:0.4f}'.format(classification_error))"
      ],
      "metadata": {
        "colab": {
          "base_uri": "https://localhost:8080/"
        },
        "id": "2rYL_K-lH6YL",
        "outputId": "5f2f3129-73a9-435b-be30-2d134a499641"
      },
      "execution_count": null,
      "outputs": [
        {
          "output_type": "stream",
          "name": "stdout",
          "text": [
            "Classification error : 0.0000\n"
          ]
        }
      ]
    },
    {
      "cell_type": "code",
      "source": [
        "precision = TP / float(TP + FP)\n",
        "print('Precision : {0:0.4f}'.format(precision))"
      ],
      "metadata": {
        "colab": {
          "base_uri": "https://localhost:8080/"
        },
        "id": "yM4T2UIvH8ZK",
        "outputId": "0c7fd5ea-c067-46ad-e312-8592bc765f17"
      },
      "execution_count": null,
      "outputs": [
        {
          "output_type": "stream",
          "name": "stdout",
          "text": [
            "Precision : 1.0000\n"
          ]
        }
      ]
    },
    {
      "cell_type": "code",
      "source": [
        "recall = TP / float(TP + FN)\n",
        "print('Recall or Sensitivity : {0:0.4f}'.format(recall))"
      ],
      "metadata": {
        "colab": {
          "base_uri": "https://localhost:8080/"
        },
        "id": "fESrJgHPH-TB",
        "outputId": "d45ef596-082f-49fb-dbd4-f66c5b84a9dc"
      },
      "execution_count": null,
      "outputs": [
        {
          "output_type": "stream",
          "name": "stdout",
          "text": [
            "Recall or Sensitivity : 1.0000\n"
          ]
        }
      ]
    },
    {
      "cell_type": "code",
      "source": [
        "true_positive_rate = TP / float(TP + FN)\n",
        "print('True Positive Rate : {0:0.4f}'.format(true_positive_rate))"
      ],
      "metadata": {
        "colab": {
          "base_uri": "https://localhost:8080/"
        },
        "id": "5O7ZWlp_IAVq",
        "outputId": "33a70f69-7063-4828-9719-d47b1cd113df"
      },
      "execution_count": null,
      "outputs": [
        {
          "output_type": "stream",
          "name": "stdout",
          "text": [
            "True Positive Rate : 1.0000\n"
          ]
        }
      ]
    },
    {
      "cell_type": "code",
      "source": [
        "false_positive_rate = FP / float(FP + TN)\n",
        "print('False Positive Rate : {0:0.4f}'.format(false_positive_rate))"
      ],
      "metadata": {
        "colab": {
          "base_uri": "https://localhost:8080/"
        },
        "id": "uJITyFM8ICou",
        "outputId": "83e3f868-042b-4797-8b96-52169e08d95d"
      },
      "execution_count": null,
      "outputs": [
        {
          "output_type": "stream",
          "name": "stdout",
          "text": [
            "False Positive Rate : 0.0000\n"
          ]
        }
      ]
    },
    {
      "cell_type": "code",
      "source": [
        "specificity = TN / (TN + FP)\n",
        "print('Specificity : {0:0.4f}'.format(specificity))"
      ],
      "metadata": {
        "colab": {
          "base_uri": "https://localhost:8080/"
        },
        "id": "bPkelJ2zIEga",
        "outputId": "78a04ad5-dc21-4a5d-d961-ae5d4a98fdb6"
      },
      "execution_count": null,
      "outputs": [
        {
          "output_type": "stream",
          "name": "stdout",
          "text": [
            "Specificity : 1.0000\n"
          ]
        }
      ]
    },
    {
      "cell_type": "code",
      "source": [
        "from sklearn.metrics import roc_curve\n",
        "fpr, tpr, thresholds = roc_curve(y_test, y_pred_test,pos_label=9982)\n",
        "plt.figure(figsize=(6,4))\n",
        "plt.plot(fpr, tpr, linewidth=2)\n",
        "plt.plot([0,1], [0,1], 'k--' )\n",
        "plt.rcParams['font.size'] = 12\n",
        "plt.title('ROC curve for Predicting')\n",
        "plt.xlabel('False Positive Rate (1 - Specificity)')\n",
        "plt.ylabel('True Positive Rate (Sensitivity)')\n",
        "plt.show()"
      ],
      "metadata": {
        "colab": {
          "base_uri": "https://localhost:8080/",
          "height": 296
        },
        "id": "RWnb0tqrIGdS",
        "outputId": "68a0f0eb-9d84-4f95-a301-1abf9a044609"
      },
      "execution_count": null,
      "outputs": [
        {
          "output_type": "display_data",
          "data": {
            "text/plain": [
              "<Figure size 432x288 with 1 Axes>"
            ],
            "image/png": "[encoded data removed]"
          },
          "metadata": {
            "needs_background": "light"
          }
        }
      ]
    },
    {
      "cell_type": "code",
      "source": [
        "from sklearn.metrics import roc_auc_score\n",
        "ROC_AUC = roc_auc_score(y_test, y_pred_test)\n",
        "print('ROC AUC : {:.4f}'.format(ROC_AUC))"
      ],
      "metadata": {
        "colab": {
          "base_uri": "https://localhost:8080/"
        },
        "id": "EZdeEw91IIew",
        "outputId": "6c78ec0f-d808-4d98-aff2-f1993c2c4b6b"
      },
      "execution_count": null,
      "outputs": [
        {
          "output_type": "stream",
          "name": "stdout",
          "text": [
            "ROC AUC : 1.0000\n"
          ]
        }
      ]
    },
    {
      "cell_type": "code",
      "source": [
        "from sklearn.model_selection import cross_val_score\n",
        "Cross_validated_ROC_AUC = cross_val_score(linear_svc, X_train, y_train, cv=10, scoring='roc_auc').mean()\n",
        "print('Cross validated ROC AUC : {:.4f}'.format(Cross_validated_ROC_AUC))"
      ],
      "metadata": {
        "colab": {
          "base_uri": "https://localhost:8080/"
        },
        "id": "2AvIQ3TyIKkk",
        "outputId": "89fb6eed-c68b-440a-b08c-8b43b20feb62"
      },
      "execution_count": null,
      "outputs": [
        {
          "output_type": "stream",
          "name": "stdout",
          "text": [
            "Cross validated ROC AUC : 1.0000\n"
          ]
        }
      ]
    }
  ]
}